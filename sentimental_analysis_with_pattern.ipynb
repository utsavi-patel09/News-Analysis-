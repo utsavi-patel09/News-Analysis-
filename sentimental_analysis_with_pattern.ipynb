{
  "nbformat": 4,
  "nbformat_minor": 0,
  "metadata": {
    "colab": {
      "provenance": []
    },
    "kernelspec": {
      "name": "python3",
      "display_name": "Python 3"
    },
    "language_info": {
      "name": "python"
    }
  },
  "cells": [
    {
      "cell_type": "code",
      "execution_count": null,
      "metadata": {
        "colab": {
          "base_uri": "https://localhost:8080/"
        },
        "id": "6xnDD_WXuHwP",
        "outputId": "1529890e-b2f8-4872-9070-2ae2a896f18f"
      },
      "outputs": [
        {
          "output_type": "stream",
          "name": "stdout",
          "text": [
            "Requirement already satisfied: transformers in /usr/local/lib/python3.10/dist-packages (4.42.4)\n",
            "Requirement already satisfied: torch in /usr/local/lib/python3.10/dist-packages (2.4.0+cu121)\n",
            "Requirement already satisfied: filelock in /usr/local/lib/python3.10/dist-packages (from transformers) (3.15.4)\n",
            "Requirement already satisfied: huggingface-hub<1.0,>=0.23.2 in /usr/local/lib/python3.10/dist-packages (from transformers) (0.23.5)\n",
            "Requirement already satisfied: numpy<2.0,>=1.17 in /usr/local/lib/python3.10/dist-packages (from transformers) (1.26.4)\n",
            "Requirement already satisfied: packaging>=20.0 in /usr/local/lib/python3.10/dist-packages (from transformers) (24.1)\n",
            "Requirement already satisfied: pyyaml>=5.1 in /usr/local/lib/python3.10/dist-packages (from transformers) (6.0.2)\n",
            "Requirement already satisfied: regex!=2019.12.17 in /usr/local/lib/python3.10/dist-packages (from transformers) (2024.5.15)\n",
            "Requirement already satisfied: requests in /usr/local/lib/python3.10/dist-packages (from transformers) (2.32.3)\n",
            "Requirement already satisfied: safetensors>=0.4.1 in /usr/local/lib/python3.10/dist-packages (from transformers) (0.4.4)\n",
            "Requirement already satisfied: tokenizers<0.20,>=0.19 in /usr/local/lib/python3.10/dist-packages (from transformers) (0.19.1)\n",
            "Requirement already satisfied: tqdm>=4.27 in /usr/local/lib/python3.10/dist-packages (from transformers) (4.66.5)\n",
            "Requirement already satisfied: typing-extensions>=4.8.0 in /usr/local/lib/python3.10/dist-packages (from torch) (4.12.2)\n",
            "Requirement already satisfied: sympy in /usr/local/lib/python3.10/dist-packages (from torch) (1.13.2)\n",
            "Requirement already satisfied: networkx in /usr/local/lib/python3.10/dist-packages (from torch) (3.3)\n",
            "Requirement already satisfied: jinja2 in /usr/local/lib/python3.10/dist-packages (from torch) (3.1.4)\n",
            "Requirement already satisfied: fsspec in /usr/local/lib/python3.10/dist-packages (from torch) (2024.6.1)\n",
            "Requirement already satisfied: MarkupSafe>=2.0 in /usr/local/lib/python3.10/dist-packages (from jinja2->torch) (2.1.5)\n",
            "Requirement already satisfied: charset-normalizer<4,>=2 in /usr/local/lib/python3.10/dist-packages (from requests->transformers) (3.3.2)\n",
            "Requirement already satisfied: idna<4,>=2.5 in /usr/local/lib/python3.10/dist-packages (from requests->transformers) (3.8)\n",
            "Requirement already satisfied: urllib3<3,>=1.21.1 in /usr/local/lib/python3.10/dist-packages (from requests->transformers) (2.0.7)\n",
            "Requirement already satisfied: certifi>=2017.4.17 in /usr/local/lib/python3.10/dist-packages (from requests->transformers) (2024.7.4)\n",
            "Requirement already satisfied: mpmath<1.4,>=1.1.0 in /usr/local/lib/python3.10/dist-packages (from sympy->torch) (1.3.0)\n"
          ]
        }
      ],
      "source": [
        "pip install transformers torch\n"
      ]
    },
    {
      "cell_type": "code",
      "source": [
        "import pandas as pd\n",
        "\n",
        "# Replace 'your_file.csv' with the path to your CSV file\n",
        "df = pd.read_csv('/content/drive/MyDrive/final.csv', encoding='mac_roman')\n",
        "\n",
        "# Display the first few rows to understand the structure\n",
        "print(df.head())\n"
      ],
      "metadata": {
        "colab": {
          "base_uri": "https://localhost:8080/"
        },
        "id": "Zn5Z7iMduX4e",
        "outputId": "e92e77ac-3a92-4402-b8b7-9b0c21846f8a"
      },
      "execution_count": null,
      "outputs": [
        {
          "output_type": "stream",
          "name": "stdout",
          "text": [
            "   Index                                        Description\n",
            "0      1  A devastating wildfire swept through the outsk...\n",
            "1      2  In a groundbreaking achievement, scientists ha...\n"
          ]
        }
      ]
    },
    {
      "cell_type": "code",
      "source": [
        "text_data = df['Description']"
      ],
      "metadata": {
        "id": "-EyAF4ZeuotF"
      },
      "execution_count": null,
      "outputs": []
    },
    {
      "cell_type": "code",
      "source": [
        "# Load the sentiment analysis model\n",
        "sentiment_model_name = \"distilbert-base-uncased-finetuned-sst-2-english\"\n",
        "sentiment_model = pipeline('sentiment-analysis', model=sentiment_model_name)"
      ],
      "metadata": {
        "id": "YhkXZycjxzPp"
      },
      "execution_count": null,
      "outputs": []
    },
    {
      "cell_type": "code",
      "source": [
        "# Load the intensity analysis model (using BERT for regression)\n",
        "intensity_model_name = 'bert-base-uncased'\n",
        "tokenizer = BertTokenizer.from_pretrained(intensity_model_name)\n",
        "intensity_model = BertForSequenceClassification.from_pretrained(intensity_model_name, num_labels=1)"
      ],
      "metadata": {
        "colab": {
          "base_uri": "https://localhost:8080/"
        },
        "id": "Vfjlf7k2yt9J",
        "outputId": "718508b3-16cf-4e87-eec0-5457a6e381af"
      },
      "execution_count": null,
      "outputs": [
        {
          "output_type": "stream",
          "name": "stderr",
          "text": [
            "Some weights of BertForSequenceClassification were not initialized from the model checkpoint at bert-base-uncased and are newly initialized: ['classifier.bias', 'classifier.weight']\n",
            "You should probably TRAIN this model on a down-stream task to be able to use it for predictions and inference.\n"
          ]
        }
      ]
    },
    {
      "cell_type": "code",
      "source": [
        "def analyze_sentiment(text_data):\n",
        "    # Ensure each input is a string and analyze sentiment\n",
        "    result = sentiment_model(text_data)[0] if isinstance(text_data, str) else {}\n",
        "    return result"
      ],
      "metadata": {
        "id": "V-VQ7nZiyxJ5"
      },
      "execution_count": null,
      "outputs": []
    },
    {
      "cell_type": "code",
      "source": [
        "import torch\n",
        "def analyze_intensity(text, sentiment_label):\n",
        "    if isinstance(text, str) and text.strip():\n",
        "        inputs = tokenizer(text, return_tensors=\"pt\", max_length=512, truncation=True, padding=True)\n",
        "        with torch.no_grad():\n",
        "            outputs = intensity_model(**inputs)\n",
        "        intensity_score = outputs.logits.item()\n",
        "\n",
        "        # Normalize to [-1, 1] using tanh function\n",
        "        intensity = torch.tanh(torch.tensor(intensity_score)).item()\n",
        "\n",
        "        # Adjust intensity to align with sentiment\n",
        "        if sentiment_label == 'NEGATIVE':\n",
        "            intensity = -abs(intensity)\n",
        "        else:\n",
        "            intensity = abs(intensity)\n",
        "\n",
        "        return round(intensity, 2)\n",
        "    else:\n",
        "        return None"
      ],
      "metadata": {
        "id": "dMT8JKI_y4b_"
      },
      "execution_count": null,
      "outputs": []
    },
    {
      "cell_type": "code",
      "source": [
        "df['sentiment'] = text_data.apply(lambda x: analyze_sentiment(x).get('label'))\n",
        "df['sentiment_score'] = text_data.apply(lambda x: analyze_sentiment(x).get('score'))\n",
        "\n",
        "# Then perform intensity analysis, using the sentiment from each row\n",
        "df['intensity'] = df.apply(lambda row: analyze_intensity(row['Description'], row['sentiment']), axis=1)"
      ],
      "metadata": {
        "id": "U6ieY0U5y62g"
      },
      "execution_count": null,
      "outputs": []
    },
    {
      "cell_type": "code",
      "source": [
        "# Save the results to a new CSV file\n",
        "df.to_csv('/content/drive/MyDrive/sentimental_analysis/final_output_with_sentiments_and_intensity.csv', index=False)\n",
        "\n",
        "print(\"Sentiment and intensity analysis completed and results saved to 'output_with_sentiments_and_intensity.csv'\")"
      ],
      "metadata": {
        "colab": {
          "base_uri": "https://localhost:8080/"
        },
        "id": "ctvOPUsxzEam",
        "outputId": "4ee779fe-152b-4b4a-f3c6-034826146966"
      },
      "execution_count": null,
      "outputs": [
        {
          "output_type": "stream",
          "name": "stdout",
          "text": [
            "Sentiment and intensity analysis completed and results saved to 'output_with_sentiments_and_intensity.csv'\n"
          ]
        }
      ]
    },
    {
      "cell_type": "code",
      "source": [
        "import pandas as pd\n",
        "import numpy as np\n",
        "from sklearn.cluster import DBSCAN\n",
        "import matplotlib.pyplot as plt\n",
        "from sklearn.preprocessing import StandardScaler"
      ],
      "metadata": {
        "id": "uCOPdTcQzaKI"
      },
      "execution_count": null,
      "outputs": []
    },
    {
      "cell_type": "code",
      "source": [
        "df = pd.read_csv('/content/drive/MyDrive/sentimental_analysis/final_output_with_sentiments_and_intensity.csv')\n"
      ],
      "metadata": {
        "id": "SZKYf0fZ5X7W"
      },
      "execution_count": null,
      "outputs": []
    },
    {
      "cell_type": "code",
      "source": [
        "X = df[['sentiment_score', 'intensity']].values"
      ],
      "metadata": {
        "id": "GODRjlYr6JMw"
      },
      "execution_count": null,
      "outputs": []
    },
    {
      "cell_type": "code",
      "source": [
        "scaler = StandardScaler()\n",
        "X_scaled = scaler.fit_transform(X)"
      ],
      "metadata": {
        "id": "wvfNPtWy6LQJ"
      },
      "execution_count": null,
      "outputs": []
    },
    {
      "cell_type": "code",
      "source": [
        "# Initialize DBSCAN\n",
        "db = DBSCAN(eps=0.3, min_samples=5).fit(X_scaled)\n",
        "\n",
        "# Get the cluster labels\n",
        "labels = db.labels_\n",
        "\n",
        "# Add the cluster labels to the DataFrame\n",
        "df['cluster'] = labels"
      ],
      "metadata": {
        "id": "J0a_jbiX6MzS"
      },
      "execution_count": null,
      "outputs": []
    },
    {
      "cell_type": "code",
      "source": [
        "# Plot the clusters\n",
        "plt.figure(figsize=(10, 6))\n",
        "unique_labels = np.unique(labels)\n",
        "colors = plt.cm.Spectral(np.linspace(0, 1, len(unique_labels)))\n",
        "\n",
        "for label, color in zip(unique_labels, colors):\n",
        "    class_member_mask = (labels == label)\n",
        "    xy = X_scaled[class_member_mask]\n",
        "    plt.plot(xy[:, 0], xy[:, 1], 'o', markerfacecolor=color, markeredgecolor='k', markersize=6)\n",
        "\n",
        "plt.title('DBSCAN Clusters of Sentiment and Intensity')\n",
        "plt.xlabel('Sentiment Score')\n",
        "plt.ylabel('Intensity')\n",
        "plt.show()"
      ],
      "metadata": {
        "colab": {
          "base_uri": "https://localhost:8080/",
          "height": 564
        },
        "id": "oBryyvTa6OL4",
        "outputId": "495b8f15-c73e-422e-f335-ebf2309dea94"
      },
      "execution_count": null,
      "outputs": [
        {
          "output_type": "display_data",
          "data": {
            "text/plain": [
              "<Figure size 1000x600 with 1 Axes>"
            ],
            "image/png": "[encoded data removed]"
          },
          "metadata": {}
        }
      ]
    },
    {
      "cell_type": "code",
      "source": [
        "df.to_csv('/content/drive/MyDrive/sentimental_analysis/final_with_pattern.csv', index=False)\n",
        "print(\"Pattern recognition completed and results saved to 'output_with_patterns.csv\")"
      ],
      "metadata": {
        "colab": {
          "base_uri": "https://localhost:8080/"
        },
        "id": "ETh4WkW-6PtD",
        "outputId": "9e3f827f-0dbb-46a1-fae0-873ad4816d63"
      },
      "execution_count": null,
      "outputs": [
        {
          "output_type": "stream",
          "name": "stdout",
          "text": [
            "Pattern recognition completed and results saved to 'output_with_patterns.csv\n"
          ]
        }
      ]
    },
    {
      "cell_type": "code",
      "source": [],
      "metadata": {
        "id": "pe8pCwxq6T5T"
      },
      "execution_count": null,
      "outputs": []
    }
  ]
}